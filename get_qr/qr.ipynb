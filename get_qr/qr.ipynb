{
 "cells": [
  {
   "cell_type": "code",
   "execution_count": 33,
   "metadata": {
    "collapsed": true
   },
   "outputs": [],
   "source": [
    "import requests,re\n",
    "import pyqrcode\n",
    "import base64\n",
    "import time"
   ]
  },
  {
   "cell_type": "code",
   "execution_count": 4,
   "metadata": {
    "collapsed": true
   },
   "outputs": [],
   "source": [
    "def getShadow():\n",
    "    url = 'https://github.com/Alvin9999/new-pac/wiki/ss免费账号'\n",
    "    headers = {'User-Agent':'Mozilla/5.0 (Windows NT 6.1; WOW64) AppleWebKit/537.36 (KHTML, like Gecko) Chrome/45.0.2454.101 Safari/537.36'}\n",
    "    html = requests.get(url,headers = headers)\n",
    "    lst = re.findall(r'<p>服务器.*?：(.*?)</p>',html.text)\n",
    "    shadows_lst = []\n",
    "    for i in lst:\n",
    "        dic = {\n",
    "           'method':i.split('加密方式：')[-1].split(' ')[0].split('（')[0],\n",
    "            #'method':re.findall(r'加密方式：(.*?) ',i,re.S)[0],\n",
    "            'password':i.split('密码：')[-1].split(' ')[0],\n",
    "            'hostname':i.split(' ')[0],\n",
    "            'port':i.split('端口：')[-1].split(' ')[0]\n",
    "        }\n",
    "        if (dic['method'] and dic['password'] and dic['port'] and dic['hostname']):\n",
    "            shadows_lst.append(dic)\n",
    "    return shadows_lst\n",
    "    "
   ]
  },
  {
   "cell_type": "code",
   "execution_count": 52,
   "metadata": {
    "collapsed": true
   },
   "outputs": [],
   "source": [
    "def outQR(Num = 10):\n",
    "    lst = getShadow()\n",
    "    N = min(Num, len(lst))\n",
    "    for i in range(0, N):\n",
    "        ss = a[i]['method']+':'+a[i]['password']+'@'+a[i]['hostname']+':'+a[i]['port']\n",
    "        s = base64.b64encode(str(ss).encode('utf8')).decode('utf8')\n",
    "        s = 'ss://'+s\n",
    "        url = pyqrcode.create(s)\n",
    "        print('正在输出第 ',i+1,' 张二维码！')\n",
    "        url.png(time.strftime('%y-%m-%d')+'_'+str(i+1)+'.png', scale=4)"
   ]
  },
  {
   "cell_type": "code",
   "execution_count": 74,
   "metadata": {},
   "outputs": [
    {
     "name": "stdout",
     "output_type": "stream",
     "text": [
      "请输入需要的二维码数量（1-40）：fd\n",
      "输入错误，退出程序！\n"
     ]
    }
   ],
   "source": [
    "if __name__ == '__main__':\n",
    "    num = input('请输入需要的二维码数量（1-40）：')\n",
    "    #print(type(num))\n",
    "    try:\n",
    "        #num = input('请输入需要的二维码数量（1-40）：')\n",
    "        num = int(num)\n",
    "        outQR(num)\n",
    "        time.sleep(2)\n",
    "    except Exception :\n",
    "        print('输入错误，退出程序！')\n",
    "        time.sleep(2)"
   ]
  }
 ],
 "metadata": {
  "kernelspec": {
   "display_name": "Python 3",
   "language": "python",
   "name": "python3"
  },
  "language_info": {
   "codemirror_mode": {
    "name": "ipython",
    "version": 3
   },
   "file_extension": ".py",
   "mimetype": "text/x-python",
   "name": "python",
   "nbconvert_exporter": "python",
   "pygments_lexer": "ipython3",
   "version": "3.5.3"
  }
 },
 "nbformat": 4,
 "nbformat_minor": 2
}
